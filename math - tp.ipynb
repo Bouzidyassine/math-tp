{
 "cells": [
  {
   "cell_type": "code",
   "execution_count": 6,
   "metadata": {},
   "outputs": [
    {
     "name": "stdout",
     "output_type": "stream",
     "text": [
      "False\n"
     ]
    }
   ],
   "source": [
    "#ex1 \n",
    "def dimensions(A):\n",
    "    return (len(A),len(A[0]))\n",
    "\n",
    "def affiche(A):\n",
    "    for ligne in A :\n",
    "        print(ligne)\n",
    "\n",
    "def matriceNulle(n,p):\n",
    "    return [[0 for j in range(p)] for i in range(n)]\n",
    "\n",
    "def matriceUnite(n):\n",
    "    B = matriceNulle(n,n)\n",
    "    for i in range(len(B)):\n",
    "        B[i][i]=1\n",
    "    return B\n",
    "    \n",
    "    \n",
    "def transpose(A):\n",
    "    n,p = dimensions(A)\n",
    "    B = matriceNulle(p,n)\n",
    "    for i in range(n) :\n",
    "        for j in range(p):\n",
    "            B[j][i]=A[i][j]\n",
    "    return B\n",
    "\n",
    "def estTriangulaireSup(A):\n",
    "    (n,p) = dimensions(A)\n",
    "    assert n==p\n",
    "    for i in range(1,len(A)):\n",
    "        for j in range(0,i):\n",
    "            if A[i][j]!=0:\n",
    "                return False\n",
    "    return True"
   ]
  },
  {
   "cell_type": "code",
   "execution_count": 11,
   "metadata": {},
   "outputs": [],
   "source": [
    "#ex2 \n",
    "def sommeMatrice(A,B):\n",
    "    (n,p) = dimensions(A)\n",
    "    (q,r) = dimensions(B)\n",
    "    assert (n,p) == (q,r)\n",
    "    C = matriceNulle(n,p)\n",
    "    for i in range(n):\n",
    "        for j in range(p):\n",
    "            C[i][j] = A[i][j]+B[i][j]\n",
    "    return C\n",
    "\n",
    "\n",
    "def multScalaire(A,k):\n",
    "    (n,p) = dimensions(A)\n",
    "    for i in range(n):\n",
    "        for j in range(p):\n",
    "            A[i][j] = k*A[i][j]\n",
    "    return A \n",
    "\n",
    "\n",
    "def produitMatrice(A,B):\n",
    "    (n,p) = dimensions(A)\n",
    "    (q,r) = dimensions(B)\n",
    "    C = matriceNulle(n,r)\n",
    "    assert p == q\n",
    "    for _ in range(n):\n",
    "        for i in range(r):\n",
    "            for j in range(p):\n",
    "                C[_][i] = C[_][i] + A[_][j]*B[j][i]\n",
    "    return C\n"
   ]
  },
  {
   "cell_type": "code",
   "execution_count": null,
   "metadata": {},
   "outputs": [],
   "source": [
    "#exo 3:\n",
    "def blocs(A,a,b):\n",
    "    return [[A for j in range(b)] for i in range(a)]\n",
    "blocs(\"A\",2,3)"
   ]
  },
  {
   "cell_type": "code",
   "execution_count": null,
   "metadata": {},
   "outputs": [],
   "source": [
    "#exo 4:\n",
    "def exponaif(A,n):\n",
    "    a, b = dimension(A)\n",
    "    if n==0:\n",
    "        return matriceUnite(a)\n",
    "    elif n==1:\n",
    "        return A\n",
    "    return produitMatrice(A, exponaif(A,n-1))\n",
    "import numpy as np\n",
    "from numpy.linalg import matrix_power\n",
    "A = np.array([[0, 1], [1, 1]],dtype=np.int64) \n",
    "matrix_power(A, 45)"
   ]
  },
  {
   "cell_type": "code",
   "execution_count": null,
   "metadata": {},
   "outputs": [],
   "source": [
    "#exo 5:\n",
    "def expoRap(x,n):\n",
    "    if n==0:\n",
    "        x=1\n",
    "    elif n%2==0 and n>0:\n",
    "        x=(x*2)*(n/2)\n",
    "    elif n%2!=0:\n",
    "        x=x*(x*2)*((n-1)/2)"
   ]
  },
  {
   "cell_type": "code",
   "execution_count": null,
   "metadata": {},
   "outputs": [],
   "source": [
    "#exo 6:\n",
    "def fiboMat(n):\n",
    "    if n==0:\n",
    "        return 0\n",
    "    elif n==1:\n",
    "        return 1\n",
    "    return fiboMat(n-1)+fiboMat(n-2)"
   ]
  }
 ],
 "metadata": {
  "kernelspec": {
   "display_name": "Python 3",
   "language": "python",
   "name": "python3"
  },
  "language_info": {
   "codemirror_mode": {
    "name": "ipython",
    "version": 3
   },
   "file_extension": ".py",
   "mimetype": "text/x-python",
   "name": "python",
   "nbconvert_exporter": "python",
   "pygments_lexer": "ipython3",
   "version": "3.8.3"
  }
 },
 "nbformat": 4,
 "nbformat_minor": 4
}
